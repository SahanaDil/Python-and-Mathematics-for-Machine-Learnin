{
 "cells": [
  {
   "cell_type": "code",
   "execution_count": 57,
   "id": "37b27606-64fa-4461-9b78-32b821360d90",
   "metadata": {},
   "outputs": [
    {
     "name": "stdin",
     "output_type": "stream",
     "text": [
      "What is your name?  Anbu\n",
      "What is your age?  23\n",
      "Whats your GPA?  4.5\n",
      "What is your name?  Bnbu\n",
      "What is your age?  24\n",
      "Whats your GPA?  4.6\n",
      "What is your name?  Cnbu\n",
      "What is your age?  25\n",
      "Whats your GPA?  4.7\n",
      "What is your name?  Dnbu\n",
      "What is your age?  26\n",
      "Whats your GPA?  4.8\n",
      "What is your name?  Enbu\n",
      "What is your age?  27\n",
      "Whats your GPA?  4.9\n"
     ]
    },
    {
     "name": "stdout",
     "output_type": "stream",
     "text": [
      "['Anbu', 23, 4.5, 'Bnbu', 24, 4.6, 'Cnbu', 25, 4.7, 'Dnbu', 26, 4.8, 'Enbu', 27, 4.9]\n"
     ]
    },
    {
     "name": "stdin",
     "output_type": "stream",
     "text": [
      "Welcome, employer \n",
      " Enter 0 to access Name \n",
      " Enter 1 to access Age \n",
      " Enter 2 to access GPA:  2\n"
     ]
    },
    {
     "name": "stdout",
     "output_type": "stream",
     "text": [
      "GPAs: [4.5, 4.6, 4.7]\n"
     ]
    }
   ],
   "source": [
    "# part 1 \n",
    "namelist = []\n",
    "agelist = []\n",
    "gpalist = []\n",
    "response = []\n",
    "employees = []\n",
    "\n",
    "def intervieweequestions(howmany2: int):\n",
    "    \n",
    "  for i in range(howmany2):\n",
    "        name = input(\"What is your name? \")\n",
    "        response.append(name)  \n",
    "        age = int(input(\"What is your age? \"))\n",
    "        response.append(age)  \n",
    "        GPA = float(input(\"Whats your GPA? \"))\n",
    "        response.append(GPA)  \n",
    "      \n",
    "def manager():\n",
    "    namelist = employees[0::3][:3]\n",
    "    agelist = employees[1::3][:3]  \n",
    "    gpalist = employees[2::3][:3]   \n",
    "    inputvalue = int(input(\"Welcome, employer \\n Enter 0 to access Name \\n Enter 1 to access Age \\n Enter 2 to access GPA: \"))\n",
    "    if inputvalue == 0:\n",
    "        print(\"Names:\", namelist)\n",
    "    elif inputvalue == 1:\n",
    "        print(\"Ages:\", agelist)\n",
    "    elif inputvalue == 2:\n",
    "        print(\"GPAs:\", gpalist)\n",
    "    else:\n",
    "        print(\"Invalid input. Please enter 0, 1, or 2.\")\n",
    "\n",
    "   \n",
    "intervieweequestions(5)\n",
    "print(response)\n",
    "if len(response) >= 9: \n",
    "   employees = response[:9] \n",
    "manager()"
   ]
  },
  {
   "cell_type": "code",
   "execution_count": 58,
   "id": "e6b64e88-d3c2-4379-8a6f-c47faeda3dbe",
   "metadata": {},
   "outputs": [
    {
     "name": "stdout",
     "output_type": "stream",
     "text": [
      "{'sportswear': {'tracksuit': 14.99, 'runningshoes': 29.99, 'joggers': 15.99}, 'Balls': {'volleyball': 4.99, 'football': 7.99, 'basketball': 9.99}, 'Fishing': {'bait': {'livebait': 4.99, 'artificialbait': 2.99}, 'hook': 10.99, 'line': 20.99}}\n",
      "Error: 'Balls' or 'tennisball' is not valid.\n",
      "Error: 'Food' or 'apple' is not valid.\n",
      "Shopping Cart: {'sportswear': {'tracksuit': 14.99}, 'Balls': {'football': 7.99}, 'Fishing': {'bait': {'livebait': 4.99, 'artificialbait': 2.99}}}\n",
      "Subtotal: 30.96\n",
      "Total Due: 33.436800000000005\n"
     ]
    },
    {
     "data": {
      "text/plain": [
       "TestResults(failed=0, attempted=0)"
      ]
     },
     "execution_count": 58,
     "metadata": {},
     "output_type": "execute_result"
    }
   ],
   "source": [
    "#part2\n",
    "myStoreInventory = {\n",
    "    'sportswear': {\n",
    "        'tracksuit': 14.99,\n",
    "        'runningshoes': 29.99,\n",
    "        'joggers': 15.99\n",
    "    }, \n",
    "    'Balls': {\n",
    "        'volleyball': 4.99,\n",
    "        'football': 7.99,\n",
    "        'basketball': 9.99\n",
    "    },\n",
    "    'Fishing': {\n",
    "        'bait': {\n",
    "            'livebait': 4.99,\n",
    "            'artificialbait': 2.99\n",
    "        },\n",
    "        'hook': 10.99,\n",
    "        'line': 20.99\n",
    "    }\n",
    "}\n",
    "\n",
    "print(myStoreInventory)\n",
    "\n",
    "shoppingcart = {}\n",
    "\n",
    "def additem(cat, item):\n",
    "    if cat in myStoreInventory and item in myStoreInventory[cat]:\n",
    "        shoppingcart.setdefault(cat, {})[item] = myStoreInventory[cat][item]\n",
    "    else:\n",
    "        print(f\"Error: '{cat}' or '{item}' is not valid.\")\n",
    "\n",
    "def subtotal():\n",
    "    total = 0\n",
    "    for items in shoppingcart.values():  \n",
    "        for price in items.values():  \n",
    "            if type(price) == dict:  \n",
    "                total += sum(price.values()) \n",
    "            else:\n",
    "                total += price  \n",
    "    return total\n",
    "\n",
    "def totaldue():\n",
    "    return subtotal() * 1.08  \n",
    "\n",
    "additem('sportswear', 'tracksuit')  \n",
    "additem('Balls', 'football')          \n",
    "additem('Fishing', 'bait')            \n",
    "additem('Balls', 'tennisball')        # Not a valid one\n",
    "add_item('Food', 'apple')              # Not a valid one \n",
    "\n",
    "print(\"Shopping Cart:\", shoppingcart)\n",
    "print(\"Subtotal:\", subtotal())\n",
    "print(\"Total Due:\", totaldue())\n",
    "\n",
    "# Run doctests\n",
    "import doctest\n",
    "doctest.testmod()\n"
   ]
  },
  {
   "cell_type": "code",
   "execution_count": 56,
   "id": "1c435a35-46b2-45ba-83c0-289a3968182e",
   "metadata": {},
   "outputs": [
    {
     "name": "stdin",
     "output_type": "stream",
     "text": [
      "Welcome to a queue task maker! What would you like to do? \n",
      " 1: Add a task \n",
      " 2: Look at the first task \n",
      " 3: Complete (remove) the first task \n",
      " 4: Clear the tasks \n",
      " 5: Exit\n",
      " 1\n",
      "Enter your task:  finish homework\n"
     ]
    },
    {
     "name": "stdout",
     "output_type": "stream",
     "text": [
      "Task 'finish homework' added!\n"
     ]
    },
    {
     "name": "stdin",
     "output_type": "stream",
     "text": [
      "Welcome to a queue task maker! What would you like to do? \n",
      " 1: Add a task \n",
      " 2: Look at the first task \n",
      " 3: Complete (remove) the first task \n",
      " 4: Clear the tasks \n",
      " 5: Exit\n",
      " 1\n",
      "Enter your task:  go to gym\n"
     ]
    },
    {
     "name": "stdout",
     "output_type": "stream",
     "text": [
      "Task 'go to gym' added!\n"
     ]
    },
    {
     "name": "stdin",
     "output_type": "stream",
     "text": [
      "Welcome to a queue task maker! What would you like to do? \n",
      " 1: Add a task \n",
      " 2: Look at the first task \n",
      " 3: Complete (remove) the first task \n",
      " 4: Clear the tasks \n",
      " 5: Exit\n",
      " 1\n",
      "Enter your task:  wash car\n"
     ]
    },
    {
     "name": "stdout",
     "output_type": "stream",
     "text": [
      "Task 'wash car' added!\n"
     ]
    },
    {
     "name": "stdin",
     "output_type": "stream",
     "text": [
      "Welcome to a queue task maker! What would you like to do? \n",
      " 1: Add a task \n",
      " 2: Look at the first task \n",
      " 3: Complete (remove) the first task \n",
      " 4: Clear the tasks \n",
      " 5: Exit\n",
      " 2\n"
     ]
    },
    {
     "name": "stdout",
     "output_type": "stream",
     "text": [
      "The first task is: finish homework\n"
     ]
    },
    {
     "name": "stdin",
     "output_type": "stream",
     "text": [
      "Welcome to a queue task maker! What would you like to do? \n",
      " 1: Add a task \n",
      " 2: Look at the first task \n",
      " 3: Complete (remove) the first task \n",
      " 4: Clear the tasks \n",
      " 5: Exit\n",
      " 3\n"
     ]
    },
    {
     "name": "stdout",
     "output_type": "stream",
     "text": [
      "First task 'finish homework' removed!\n"
     ]
    },
    {
     "name": "stdin",
     "output_type": "stream",
     "text": [
      "Welcome to a queue task maker! What would you like to do? \n",
      " 1: Add a task \n",
      " 2: Look at the first task \n",
      " 3: Complete (remove) the first task \n",
      " 4: Clear the tasks \n",
      " 5: Exit\n",
      " 2\n"
     ]
    },
    {
     "name": "stdout",
     "output_type": "stream",
     "text": [
      "The first task is: go to gym\n"
     ]
    },
    {
     "name": "stdin",
     "output_type": "stream",
     "text": [
      "Welcome to a queue task maker! What would you like to do? \n",
      " 1: Add a task \n",
      " 2: Look at the first task \n",
      " 3: Complete (remove) the first task \n",
      " 4: Clear the tasks \n",
      " 5: Exit\n",
      " 4\n"
     ]
    },
    {
     "name": "stdout",
     "output_type": "stream",
     "text": [
      "All tasks cleared!\n"
     ]
    },
    {
     "name": "stdin",
     "output_type": "stream",
     "text": [
      "Welcome to a queue task maker! What would you like to do? \n",
      " 1: Add a task \n",
      " 2: Look at the first task \n",
      " 3: Complete (remove) the first task \n",
      " 4: Clear the tasks \n",
      " 5: Exit\n",
      " 2\n"
     ]
    },
    {
     "name": "stdout",
     "output_type": "stream",
     "text": [
      "No tasks in the list!\n"
     ]
    },
    {
     "name": "stdin",
     "output_type": "stream",
     "text": [
      "Welcome to a queue task maker! What would you like to do? \n",
      " 1: Add a task \n",
      " 2: Look at the first task \n",
      " 3: Complete (remove) the first task \n",
      " 4: Clear the tasks \n",
      " 5: Exit\n",
      " 5\n"
     ]
    },
    {
     "name": "stdout",
     "output_type": "stream",
     "text": [
      "Goodbye!\n"
     ]
    }
   ],
   "source": [
    "#part3\n",
    "queue = []\n",
    "\n",
    "while True:\n",
    "    inputvalue = int(input(\"Welcome to a queue task maker! What would you like to do? \\n 1: Add a task \\n 2: Look at the first task \\n 3: Complete (remove) the first task \\n 4: Clear the tasks \\n 5: Exit\\n\"))\n",
    "\n",
    "    if inputvalue == 1:\n",
    "        addtask = input(\"Enter your task: \")\n",
    "        queue.append(addtask)\n",
    "        print(f\"Task '{addtask}' added!\")\n",
    "\n",
    "    elif inputvalue == 2:\n",
    "        if queue:\n",
    "            print(\"The first task is:\", queue[0])\n",
    "        else:\n",
    "            print(\"No tasks in the list!\")\n",
    "\n",
    "    elif inputvalue == 3:\n",
    "        if queue:\n",
    "            completed_task = queue.pop(0)\n",
    "            print(f\"First task '{completed_task}' removed!\")\n",
    "        else:\n",
    "            print(\"No tasks to remove!\")\n",
    "\n",
    "    elif inputvalue == 4:\n",
    "        queue.clear()\n",
    "        print(\"All tasks cleared!\")\n",
    "\n",
    "    elif inputvalue == 5:\n",
    "        print(\"Goodbye!\")\n",
    "        break\n",
    "\n",
    "    else:\n",
    "        print(\"Invalid option! Please choose a number between 1 and 5.\")\n"
   ]
  },
  {
   "cell_type": "code",
   "execution_count": null,
   "id": "8deb8116-5246-4110-98dc-df9e79f70e2b",
   "metadata": {},
   "outputs": [],
   "source": []
  }
 ],
 "metadata": {
  "kernelspec": {
   "display_name": "Python 3 (ipykernel)",
   "language": "python",
   "name": "python3"
  },
  "language_info": {
   "codemirror_mode": {
    "name": "ipython",
    "version": 3
   },
   "file_extension": ".py",
   "mimetype": "text/x-python",
   "name": "python",
   "nbconvert_exporter": "python",
   "pygments_lexer": "ipython3",
   "version": "3.11.7"
  }
 },
 "nbformat": 4,
 "nbformat_minor": 5
}
