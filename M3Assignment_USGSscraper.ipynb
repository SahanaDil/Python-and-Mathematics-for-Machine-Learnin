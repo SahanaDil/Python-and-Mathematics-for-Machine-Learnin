{
 "cells": [
  {
   "cell_type": "markdown",
   "metadata": {
    "id": "7wZJMMYZ8vdd"
   },
   "source": [
    "**Copyright: © NexStream Technical Education, LLC**.  \n",
    "All rights reserved\n"
   ]
  },
  {
   "cell_type": "markdown",
   "metadata": {
    "id": "jQGSjVndM325"
   },
   "source": [
    "# USGS Earthquake Scraper Introduction\n",
    "In this project, you will create a 'web scraper' to access and retrieve real-time data from the US Geological Service (USGS) reflecting the latest active earthquakes around the world which are equal or above a user input magnitude.\n",
    "\n",
    "The data is in JSON format so you'll need to convert the output into a user-readable (friendly) format.\n",
    "\n",
    "The feed is from the USGS database here:  https://earthquake.usgs.gov/earthquakes/feed/.  You should become familiar with this site.\n",
    "\n",
    "The format of the feed summary is here: https://earthquake.usgs.gov/earthquakes/feed/v1.0/geojson.php.  You should become familiar with the fields for the JSON data.  \n",
    "\n",
    "Note you can use a JSON viewer for a more readable format of the data.  \n",
    "\n",
    "\n",
    "\n",
    "\n"
   ]
  },
  {
   "cell_type": "markdown",
   "metadata": {
    "id": "XZfDM-GIPHke"
   },
   "source": [
    "# Part 1a:  Setup the environment and script and prompt the user for input.\n",
    "Setup the script imports and prompt the user for the magnitude from which the USGS data will be accessed.  That is, any earthquake greater than or equal to the input magnitude will be retrieved from the database.  \n",
    "You'll need to import the urllib.request library to get to the web site.\n",
    "You also can input the json library to utilize the functions in that library.\n",
    "Check out both API's for reference.\n"
   ]
  },
  {
   "cell_type": "code",
   "execution_count": 15,
   "metadata": {
    "colab": {
     "base_uri": "https://localhost:8080/",
     "height": 34
    },
    "id": "j2VIRv4i8hs3",
    "outputId": "ff21f484-ca27-43ac-a916-d4dd1a19525c"
   },
   "outputs": [
    {
     "name": "stdin",
     "output_type": "stream",
     "text": [
      "Enter magnitude parameter between 2.5 to 10:  4\n"
     ]
    },
    {
     "name": "stdout",
     "output_type": "stream",
     "text": [
      "4.0\n"
     ]
    }
   ],
   "source": [
    "#Import the urllib.request and json libraries\n",
    "import urllib.request as request\n",
    "import json as datajson\n",
    "import requests\n",
    "\n",
    "####Your code here....\n",
    "\n",
    "#Prompt the user to input a magnitude parameter of type floating point.  \n",
    "while True:\n",
    "    try: \n",
    "        magn = float(input(\"Enter magnitude parameter between 2.5 to 10: \"))\n",
    "        print(magn)\n",
    "    \n",
    "  \n",
    "        if magn < 2.5 or magn >10:\n",
    "            print(\"Magnitude parameter does not fit within range. Try again with a proper value.\")  \n",
    "        else:\n",
    "            break\n",
    "\n",
    "\n",
    "    except ValueError:\n",
    "            print(\"Magnitude parameter is not in float format. Try again.\")"
   ]
  },
  {
   "cell_type": "markdown",
   "metadata": {
    "id": "FcnmCVrHRPRS"
   },
   "source": [
    "# Part 1b:  Write the printResults function.  \n",
    "In this function, you should print the output of the data you retrieved from the site:  http://earthquake.usgs.gov/earthquakes/feed/v1.0/summary/2.5_day.geojson      \n",
    "See the code comments for guided instruction.\n",
    "\n",
    "\n",
    "Note you can use a JSON viewer for a more readable format of the data if you want to view it before processing it with your function.\n",
    "\n"
   ]
  },
  {
   "cell_type": "code",
   "execution_count": 16,
   "metadata": {
    "id": "fht5aB2x9BdX"
   },
   "outputs": [
    {
     "name": "stdout",
     "output_type": "stream",
     "text": [
      "Metadata Title: USGS Magnitude 2.5+ Earthquakes, Past Day\n",
      "<class 'list'>\n",
      "Number of events 35\n",
      "Magnitude:4.6, place:55 km S of Reuleuet, Indonesia\n",
      "Magnitude:4.8, place:south of the Fiji Islands\n",
      "Magnitude:4.5, place:50 km SSW of Sola, Vanuatu\n",
      "Magnitude:4.1, place:175 km ESE of Chignik, Alaska\n",
      "Magnitude:4.4, place:109 km S of Lorengau, Papua New Guinea\n",
      "Magnitude:4.2, place:58 km SSW of Labuha, Indonesia\n",
      "Magnitude:4.2, place:99 km NNW of Finschhafen, Papua New Guinea\n",
      "Magnitude:4.7, place:164 km W of Lata, Solomon Islands\n",
      "Magnitude:4.6, place:35 km NNE of Ziro, India\n",
      "Magnitude:4.8, place:65 km WNW of Gunungsitoli, Indonesia\n",
      "Magnitude:4.6, place:129 km W of Tobelo, Indonesia\n"
     ]
    }
   ],
   "source": [
    "import json\n",
    "#Function printResults(data)\n",
    "#In Python 3.x we need to explicitly decode the response to a string \n",
    "#i.e. data is output from data.decode(\"utf-8\") \n",
    "\n",
    "def printResults(data):\n",
    "\n",
    "  # 1.  Use the json \"loads\" api  to load the string data into a dictionary\n",
    "####Your code here....\n",
    "    link = 'https://earthquake.usgs.gov/earthquakes/feed/v1.0/summary/2.5_day.geojson'  \n",
    "    response = requests.get(link)\n",
    "    #stringdecode =  \n",
    "    datajson = json.loads(response.content.decode('utf-8'))\n",
    "    \n",
    "      # with open(‘example_json.json’) as f: \n",
    "\n",
    "  # 2.  Access the contents of the JSON data\n",
    "    \n",
    "  #     and print out the metadata title\n",
    "####Your code here....\n",
    "    print(\"Metadata Title:\", datajson.get('metadata', {}).get('title', 'No title found'))\n",
    "  \n",
    "  #3.  Output the number of events\n",
    "####Your code here....\n",
    "    count = datajson.get('features',[])\n",
    "    print(type(count))\n",
    "    print(\"Number of events\",len(count))\n",
    "  \n",
    "\n",
    "  \n",
    "  #4.  For each event, print the place where it occurred\n",
    "####Your code here....\n",
    "    for events in count:\n",
    "        place = events.get('properties', {}).get('place','No location found')\n",
    "    \n",
    "\n",
    "  #5 For each event, if the magnitude is greater than the user input\n",
    "    for events in count:\n",
    "        magnitude = events.get('properties', {}).get('mag', 0)\n",
    "        place = events.get('properties', {}).get('place','No location found')\n",
    "        if magnitude > magn:\n",
    "            print(f\"Magnitude:{magnitude}, place:{place}\")\n",
    "  #  print both the magnitude and the place it occurred. \n",
    "  #  HINT: use the \"title\" field that each feature has.\n",
    "####Your code here....\n",
    "\n",
    "printResults(magn)\n",
    "\n",
    "      \n"
   ]
  },
  {
   "cell_type": "markdown",
   "metadata": {
    "id": "D-U56LbCRhpU"
   },
   "source": [
    "# Part 1c:  Write the runner\n",
    "In this code (either main or in a function), you should setup the URL from the USGS site, open the URL and read the data, call the printResults function.\n",
    "http://earthquake.usgs.gov/earthquakes/feed/v1.0/summary/2.5_day.geojson  \n",
    "See the code comments for guided instruction.  \n",
    " \n",
    "Note you can use a JSON viewer for a more readable format of the data if you want to view it before processing it with your function."
   ]
  },
  {
   "cell_type": "code",
   "execution_count": 17,
   "metadata": {
    "id": "QC8z_ZJOBRM-"
   },
   "outputs": [
    {
     "name": "stdout",
     "output_type": "stream",
     "text": [
      "HTTP status 200\n"
     ]
    }
   ],
   "source": [
    "import urllib.request\n",
    "# Define a variable to hold the source URL (see the notes for the URL)\n",
    "link = ('https://earthquake.usgs.gov/earthquakes/feed/v1.0/summary/2.5_day.geojson') \n",
    "response = urllib.request.urlopen(link)\n",
    "# This feed lists all earthquakes for the last day larger than Mag 2.5 (this is your minimum input)\n",
    "####Your code here....\n",
    "# Open the URL and read the data\n",
    "# See c\n",
    "####Your code here....\n",
    "\n",
    "# Print the HTTP status code of the response (200 is a valid response)\n",
    "# See urllib.request.urlopen API\n",
    "####Your code here....\n",
    "try: \n",
    "    print(\"HTTP status\", response.getcode())\n",
    "\n",
    "except response.getcode != 200:\n",
    "    print(\"HTTP error\")\n",
    "\n",
    "\n",
    "    \n",
    "# If the HTTP status code of the response is valid (hint: 200) \n",
    "#    then read the data (hint: .read API) and convert to a string (hint: .decode(\"utf-8\") API), \n",
    "#    and print the results using your printResults function from step 1b\n",
    "# Make sure your code handles an error condition (i.e. non-valid status code) \n",
    "#    and print out the error code in that case.\n",
    "####Your code here....\n"
   ]
  },
  {
   "cell_type": "markdown",
   "metadata": {
    "id": "BPcWwux3RsBx"
   },
   "source": [
    "# Part 2:  Output data to spreadsheet\n",
    "Convert output to CSV format.  \n",
    "\n",
    "Rewrite the printResults function.  Call it printResults2(data) where a list or dictionary (your choice) is returned from the function to the runner then the data is converted to CSV format and saved to a file.\n",
    "\n",
    "Change your runner to assign the returned data from your printResults2 function to a variable that you then convert to CSV format and save to a file.\n",
    "\n",
    "Include at least the 4 retrieved from the database from Part 1.  \n",
    "Include exception handling in your file IO processing.   "
   ]
  },
  {
   "cell_type": "code",
   "execution_count": 18,
   "metadata": {
    "id": "siamBbHDEY1u"
   },
   "outputs": [
    {
     "name": "stdout",
     "output_type": "stream",
     "text": [
      "File written, check location of notebook for file\n"
     ]
    }
   ],
   "source": [
    "####Your code here....\n",
    "import csv\n",
    "\n",
    "def printResults2(magn):\n",
    "\n",
    "  # 1.  Use the json \"loads\" api  to load the string data into a dictionary\n",
    "####Your code here....\n",
    "    link = 'https://earthquake.usgs.gov/earthquakes/feed/v1.0/summary/2.5_day.geojson'  \n",
    "    response = requests.get(link)\n",
    "    #stringdecode =  \n",
    "    datajson = json.loads(response.content.decode('utf-8'))\n",
    "\n",
    "    csvdatalist = []\n",
    "    count = datajson.get('features',[])\n",
    "    for events in count:\n",
    "        magnitude = events.get('properties', {}).get('mag', 0)\n",
    "        place = events.get('properties', {}).get('place','No location found')\n",
    "        if magnitude > magn:\n",
    "            csvdatalist.append([magnitude,place])\n",
    "    return csvdatalist\n",
    "csvconvert = printResults2(magn)\n",
    "\n",
    "filename= 'earthquakeresults.csv'\n",
    "try:\n",
    "    with open(filename, 'w', newline='') as csvfile:\n",
    "        writer = csv.writer(csvfile)\n",
    "        writer.writerows(csvconvert)\n",
    "        print (\"File written, check location of notebook for file\")\n",
    "except Exception as e:\n",
    "    print(f\"File conversion error:{e}\")\n",
    "\n"
   ]
  },
  {
   "cell_type": "code",
   "execution_count": null,
   "metadata": {},
   "outputs": [],
   "source": []
  }
 ],
 "metadata": {
  "colab": {
   "collapsed_sections": [],
   "provenance": []
  },
  "kernelspec": {
   "display_name": "Python 3 (ipykernel)",
   "language": "python",
   "name": "python3"
  },
  "language_info": {
   "codemirror_mode": {
    "name": "ipython",
    "version": 3
   },
   "file_extension": ".py",
   "mimetype": "text/x-python",
   "name": "python",
   "nbconvert_exporter": "python",
   "pygments_lexer": "ipython3",
   "version": "3.11.7"
  }
 },
 "nbformat": 4,
 "nbformat_minor": 4
}
