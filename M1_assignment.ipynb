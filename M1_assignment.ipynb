{
 "cells": [
  {
   "cell_type": "code",
   "execution_count": 10,
   "id": "e870ab29-9e13-4377-b5af-fe4c10d06355",
   "metadata": {},
   "outputs": [
    {
     "name": "stdout",
     "output_type": "stream",
     "text": [
      "between 21 and 64 years of age.\n"
     ]
    }
   ],
   "source": [
    "#part 1\n",
    "#enter only numeric age\n",
    "def ageCategory1(age):\n",
    "    \n",
    "        if age < 5:\n",
    "            print(\"under five years of age.\")\n",
    "        if age>=5 and age<=10:\n",
    "            print(\"between 5 and 10 years of age.\")\n",
    "        if age>=11 and age<= 20:\n",
    "            print(\"between 11 and 20 years of age.\")\n",
    "        if age>=21 and age<=64:\n",
    "            print(\"between 21 and 64 years of age.\")\n",
    "        if age> 64 and age<=100:\n",
    "            print(\"above 64 years of age.\")\n",
    "        if age<0:\n",
    "            print(\"an invalid age.\")\n",
    "        if age>100:\n",
    "            print(\"lived past 100!\")\n",
    "\n",
    "ageCategory1(55)\n",
    "\n",
    "    "
   ]
  },
  {
   "cell_type": "code",
   "execution_count": 11,
   "id": "4bcb0d6a-067a-4870-8984-96e6fc20602f",
   "metadata": {},
   "outputs": [
    {
     "name": "stdout",
     "output_type": "stream",
     "text": [
      "between 21 and 64 years of age.\n"
     ]
    },
    {
     "data": {
      "text/plain": [
       "TestResults(failed=0, attempted=2)"
      ]
     },
     "execution_count": 11,
     "metadata": {},
     "output_type": "execute_result"
    }
   ],
   "source": [
    "# part 2 and 4(doctest)\n",
    "#enter only numeric age\n",
    "import doctest\n",
    "def ageCategory2(age):\n",
    "    \n",
    "        if age < 5:\n",
    "            return 'under five years of age.'\n",
    "        if age>=5 and age<=10:\n",
    "            return 'between 5 and 10 years of age'\n",
    "        if age>=11 and age<= 20:\n",
    "            return 'between 11 and 20 years of age.'\n",
    "        if age>=21 and age<=64:\n",
    "             return 'between 21 and 64 years of age.'\n",
    "        if age> 64:\n",
    "            return 'above 64 years of age.\"'\n",
    "        if age<0:\n",
    "            print(\"an invalid age.\")\n",
    "        if age>100:\n",
    "            print(\"lived past 100!\")\n",
    "\n",
    "result = ageCategory2(55)\n",
    "print(result)\n",
    "\n",
    "\"\"\"\n",
    "#Test the following functions:\n",
    "#ageCategory2(age)\n",
    "    >>> ageCategory2(55)\n",
    "    'between 21 and 64 years of age.'\n",
    "    >>> ageCategory2(13)\n",
    "    'between 11 and 20 years of age.'\n",
    "\"\"\"\n",
    "\n",
    "doctest.testmod()"
   ]
  },
  {
   "cell_type": "code",
   "execution_count": 12,
   "id": "11a3184b-7de0-4c2f-b603-1300ad9b3418",
   "metadata": {},
   "outputs": [
    {
     "name": "stdout",
     "output_type": "stream",
     "text": [
      "Jim is between 11 and 20 years of age.Jane is under five years of age.\n"
     ]
    }
   ],
   "source": [
    "#part 3\n",
    "def ageCategory3 (*profile):\n",
    "    name1 = profile[0]\n",
    "    age1 = profile[1]\n",
    "    name2 = profile[2]\n",
    "    age2 = profile[3]\n",
    "    Sentence1 = name1 +\" \"+ 'is' +\" \"+ ageCategory2(age1)\n",
    "    Sentence2 = name2 +\" \"+ 'is' +\" \"+ ageCategory2(age2)\n",
    "    return Sentence1 + Sentence2\n",
    "\n",
    "result = ageCategory3('Jim', 13, 'Jane', 3)\n",
    "print(result)\n",
    "\n",
    "\n",
    "    \n",
    "\n"
   ]
  },
  {
   "cell_type": "code",
   "execution_count": null,
   "id": "eb34e205-f376-4c55-a1f1-e35885978bcf",
   "metadata": {},
   "outputs": [],
   "source": []
  },
  {
   "cell_type": "code",
   "execution_count": null,
   "id": "16aaed28-b4ad-42c6-8af1-23616ff6ccb1",
   "metadata": {},
   "outputs": [],
   "source": []
  }
 ],
 "metadata": {
  "kernelspec": {
   "display_name": "Python 3 (ipykernel)",
   "language": "python",
   "name": "python3"
  },
  "language_info": {
   "codemirror_mode": {
    "name": "ipython",
    "version": 3
   },
   "file_extension": ".py",
   "mimetype": "text/x-python",
   "name": "python",
   "nbconvert_exporter": "python",
   "pygments_lexer": "ipython3",
   "version": "3.11.7"
  }
 },
 "nbformat": 4,
 "nbformat_minor": 5
}
